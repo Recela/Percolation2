{
 "cells": [
  {
   "cell_type": "code",
   "execution_count": null,
   "metadata": {},
   "outputs": [],
   "source": []
  },
  {
   "cell_type": "code",
   "execution_count": null,
   "metadata": {
    "scrolled": true
   },
   "outputs": [],
   "source": [
    "import numpy as np\n",
    "def mundo2d(num_fila,num_columna):         \n",
    "    \n",
    "    fila = [x for x in range (num_fila) ]\n",
    "    columna = [y for y in range (num_columna) ]    \n",
    "    arreglo= (fila + columna)\n",
    "    print('fila:',fila)    \n",
    "    print('columna:',columna)\n",
    "    print('arreglo:', arreglo,'\\n')\n",
    "    \n",
    "    full= np.full((num_fila,num_columna),0)\n",
    "    print('matriz dimensional:\\n',full)\n",
    "    print('medidas de la matriz:',full.shape)\n",
    "    \n",
    "    \n",
    "mundo2d(4,2)    "
   ]
  },
  {
   "cell_type": "code",
   "execution_count": null,
   "metadata": {},
   "outputs": [],
   "source": [
    "import numpy as np\n",
    "def mundo3d(num_fila,num_columna):         \n",
    "    \n",
    "    \n",
    "    matrizEnteros = np.arange(6)    \n",
    "    dimensiones = matrizEnteros.reshape(num_fila , num_columna)\n",
    "    \n",
    "    \n",
    "    print(dimensiones)\n",
    "    \n",
    "    \n",
    "    \n",
    "mundo3d(3,2)  "
   ]
  },
  {
   "cell_type": "code",
   "execution_count": null,
   "metadata": {},
   "outputs": [],
   "source": []
  }
 ],
 "metadata": {
  "kernelspec": {
   "display_name": "Python 3",
   "language": "python",
   "name": "python3"
  },
  "language_info": {
   "codemirror_mode": {
    "name": "ipython",
    "version": 3
   },
   "file_extension": ".py",
   "mimetype": "text/x-python",
   "name": "python",
   "nbconvert_exporter": "python",
   "pygments_lexer": "ipython3",
   "version": "3.7.7"
  }
 },
 "nbformat": 4,
 "nbformat_minor": 4
}
